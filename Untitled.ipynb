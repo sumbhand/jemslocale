{
 "cells": [
  {
   "cell_type": "code",
   "execution_count": 1,
   "id": "f1372459-6e02-41dc-be7e-e94e2da020eb",
   "metadata": {},
   "outputs": [],
   "source": [
    "import qrcode\n",
    "import qrcode.image.svg\n",
    "\n",
    "def generate_qr(location_name, gps_coordinates, description):\n",
    "    qr_metadata = f\"{location_name}|{gps_coordinates}|{description}\"\n",
    "    qr = qrcode.QRCode(\n",
    "        version=1,\n",
    "        error_correction=qrcode.constants.ERROR_CORRECT_L,\n",
    "        box_size=10,\n",
    "        border=4,\n",
    "    )\n",
    "    qr.add_data(qr_metadata)\n",
    "    qr.make(fit=True)\n",
    "\n",
    "    img = qr.make_image(fill='black', back_color='white')\n",
    "    img.save(f\"{location_name}.png\")\n",
    "\n",
    "generate_qr(\"Statue of Liberty\", \"40.6892,-74.0445\", \"An iconic symbol of freedom\")\n"
   ]
  }
 ],
 "metadata": {
  "kernelspec": {
   "display_name": "Python 3 (ipykernel)",
   "language": "python",
   "name": "python3"
  },
  "language_info": {
   "codemirror_mode": {
    "name": "ipython",
    "version": 3
   },
   "file_extension": ".py",
   "mimetype": "text/x-python",
   "name": "python",
   "nbconvert_exporter": "python",
   "pygments_lexer": "ipython3",
   "version": "3.9.19"
  }
 },
 "nbformat": 4,
 "nbformat_minor": 5
}
